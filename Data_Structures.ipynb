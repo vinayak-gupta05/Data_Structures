{
  "cells": [
    {
      "cell_type": "code",
      "source": [
        "# Q1) Write a code to reverse a string.\n",
        "\n",
        "str1 = input(\"Enter a String : \")\n",
        "reverse_str1 = str1[::-1]\n",
        "print(\"Reverse String is\",reverse_str1)"
      ],
      "metadata": {
        "colab": {
          "base_uri": "https://localhost:8080/"
        },
        "id": "r_iWSSY7DGhJ",
        "outputId": "69f034c0-f609-42f9-f503-f692cd98eb20"
      },
      "execution_count": null,
      "outputs": [
        {
          "output_type": "stream",
          "name": "stdout",
          "text": [
            "Enter a String : Kartikey\n",
            "Reverse String is yekitraK\n"
          ]
        }
      ]
    },
    {
      "cell_type": "code",
      "source": [
        "# Q2) Write a code to count the number of vowel in string.\n",
        "\n",
        "str2 = input(\"Enter a String : \")\n",
        "str2 = str2.lower()\n",
        "count = 0\n",
        "for i in str2:\n",
        "    if i in ['a','e','i','o','u']:\n",
        "        count += 1\n",
        "print(count)\n"
      ],
      "metadata": {
        "colab": {
          "base_uri": "https://localhost:8080/"
        },
        "id": "gqehQWlaDb55",
        "outputId": "c6974b6e-010d-4e06-b382-62de2752cb23"
      },
      "execution_count": null,
      "outputs": [
        {
          "output_type": "stream",
          "name": "stdout",
          "text": [
            "Enter a String : Address\n",
            "2\n"
          ]
        }
      ]
    },
    {
      "cell_type": "code",
      "source": [
        "# Q3) Write code to check if given string is palindrome or not.\n",
        "\n",
        "str3 = input(\"Enter a String : \")\n",
        "str3 = str3.lower()\n",
        "rev = str3[::-1]\n",
        "if str3 == rev:\n",
        "    print(f\"{str3} is a palindrome!\")\n",
        "else:\n",
        "    print(f\"{str3} is not a palindrome!\")\n"
      ],
      "metadata": {
        "colab": {
          "base_uri": "https://localhost:8080/"
        },
        "id": "Ifr5nUbBDpFh",
        "outputId": "5992d37d-bfba-49df-9b26-69a8c7680c42"
      },
      "execution_count": null,
      "outputs": [
        {
          "output_type": "stream",
          "name": "stdout",
          "text": [
            "Enter a String : Malayalam\n",
            "malayalam is a palindrome!\n"
          ]
        }
      ]
    },
    {
      "cell_type": "code",
      "source": [
        "# Q4) Write code to check if two given string are anagrams of each other.\n",
        "\n",
        "str4 = \"race\"\n",
        "str5 = \"care\"\n",
        "\n",
        "if (sorted(str4) == sorted(str5)):\n",
        "    print(\"The String are anagrams.\")\n",
        "else:\n",
        "    print(\"The String aren't anagrams.\")\n"
      ],
      "metadata": {
        "colab": {
          "base_uri": "https://localhost:8080/"
        },
        "id": "8OuUmZLYEFQb",
        "outputId": "5c96bdbc-8abe-4edb-85fe-cc67903a7c99"
      },
      "execution_count": null,
      "outputs": [
        {
          "output_type": "stream",
          "name": "stdout",
          "text": [
            "The String are anagrams.\n"
          ]
        }
      ]
    },
    {
      "cell_type": "code",
      "source": [
        "# Q5) Write a code to find all occurrences of a given substring within another.\n",
        "\n",
        "text = \"This is a string with some repetitions. It is repeated again.\"\n",
        "sub = \"is\"\n",
        "indices = []\n",
        "i = 0\n",
        "while i < len(text):\n",
        "  index = text.find(sub, i)\n",
        "  if index == -1:\n",
        "    break\n",
        "  indices.append(index)\n",
        "  i = index + len(sub)  # Start searching from the end of the previous occurrence\n",
        "\n",
        "if indices:\n",
        "  print(\"Substring found at indices:\", indices)\n",
        "else:\n",
        "  print(\"Substring not found in the text.\")\n"
      ],
      "metadata": {
        "colab": {
          "base_uri": "https://localhost:8080/"
        },
        "id": "jlBaokdGERFA",
        "outputId": "a068da00-b432-4be5-b4a9-d90495667027"
      },
      "execution_count": null,
      "outputs": [
        {
          "output_type": "stream",
          "name": "stdout",
          "text": [
            "Substring found at indices: [2, 5, 43]\n"
          ]
        }
      ]
    },
    {
      "cell_type": "code",
      "source": [
        "# Q6) Write a code to perform basic string compression using the counts of repeated characters.\n",
        "\n",
        "text = \"aabcccccaaa\"\n",
        "compressed_text = \"\"\n",
        "count = 1\n",
        "\n",
        "for i in range(1, len(text)):\n",
        "    if text[i] == text[i-1]:\n",
        "        count += 1\n",
        "    else:\n",
        "        compressed_text += text[i-1] + str(count)\n",
        "        count = 1\n",
        "compressed_text += text[-1] + str(count)\n",
        "\n",
        "print(compressed_text)\n"
      ],
      "metadata": {
        "id": "N3LxrFnhGcdx",
        "colab": {
          "base_uri": "https://localhost:8080/"
        },
        "outputId": "c3e69e77-d1e9-47ff-e5f1-9fa1d9e2b630"
      },
      "execution_count": 2,
      "outputs": [
        {
          "output_type": "stream",
          "name": "stdout",
          "text": [
            "a2b1c5a3\n"
          ]
        }
      ]
    },
    {
      "cell_type": "code",
      "source": [
        "# Q7) Write a code to determine if a string has all unique characters.\n",
        "\n",
        "text = \"abvcc\"\n",
        "text1 = list(text)\n",
        "text2 = list(set(text))\n",
        "\n",
        "text1.sort()\n",
        "text2.sort()\n",
        "\n",
        "if (text2 == text1):\n",
        "    print(True)\n",
        "else:\n",
        "    print(False)\n"
      ],
      "metadata": {
        "colab": {
          "base_uri": "https://localhost:8080/"
        },
        "id": "b042OhM9HCNh",
        "outputId": "61f5b197-5887-4b6b-eeeb-3d91df0ecc52"
      },
      "execution_count": null,
      "outputs": [
        {
          "output_type": "stream",
          "name": "stdout",
          "text": [
            "False\n"
          ]
        }
      ]
    },
    {
      "cell_type": "code",
      "source": [
        "# Q8) Write a code to convert a given string to uppercase or lowercase.\n",
        "\n",
        "text3 = input(\"Enter a Text : \")\n",
        "print(\"Uppercase: \",text3.upper())\n",
        "print(\"Lowercase: \",text3.lower())"
      ],
      "metadata": {
        "colab": {
          "base_uri": "https://localhost:8080/"
        },
        "id": "kaqeDLJXHKgq",
        "outputId": "5f6871a2-22f2-4b39-acd4-fa666b3f1808"
      },
      "execution_count": null,
      "outputs": [
        {
          "output_type": "stream",
          "name": "stdout",
          "text": [
            "Enter a Text : Vinayak Gupta\n",
            "Uppercase:  VINAYAK GUPTA\n",
            "Lowercase:  vinayak gupta\n"
          ]
        }
      ]
    },
    {
      "cell_type": "code",
      "execution_count": null,
      "metadata": {
        "colab": {
          "base_uri": "https://localhost:8080/"
        },
        "id": "o4mS5q3FEdHL",
        "outputId": "276afac2-6a79-4ded-ac05-b8b710b6bed7"
      },
      "outputs": [
        {
          "name": "stdout",
          "output_type": "stream",
          "text": [
            "['Hi', 'This', 'is', 'Vinayak', 'Gupta', 'from', 'Lucknow']\n",
            "Number of words in a string is 7\n"
          ]
        }
      ],
      "source": [
        "# Q9) Write a code to count the number of words in a string.\n",
        "\n",
        "Str = \"Hi This is Vinayak Gupta from Lucknow\"\n",
        "a = Str.split(' ')\n",
        "print(a)\n",
        "print(\"Number of words in a string is\",len(a))"
      ]
    },
    {
      "cell_type": "code",
      "execution_count": null,
      "metadata": {
        "colab": {
          "base_uri": "https://localhost:8080/"
        },
        "id": "AB3UqXRrG2tb",
        "outputId": "2459f047-57d2-464e-b795-1bc798a32f97"
      },
      "outputs": [
        {
          "output_type": "stream",
          "name": "stdout",
          "text": [
            "Excelligent\n"
          ]
        }
      ],
      "source": [
        "# Q10) Write a code to concatenate two strings without using the + operators.\n",
        "\n",
        "str1 = \"Excel\"\n",
        "str2 = \"ligent\"\n",
        "\n",
        "# str1 + str2 >> Not to use this\n",
        "\n",
        "print(\"\".join([str1,str2]))\n"
      ]
    },
    {
      "cell_type": "code",
      "execution_count": null,
      "metadata": {
        "colab": {
          "base_uri": "https://localhost:8080/"
        },
        "id": "fC-As_HLK7S6",
        "outputId": "b45e1f67-e35e-4b6a-9935-ac6e132464b6"
      },
      "outputs": [
        {
          "output_type": "stream",
          "name": "stdout",
          "text": [
            "[1, 2, 3, 4, 5, 1, 5, 2, 8, 'Ankit', 'Ajay']\n"
          ]
        }
      ],
      "source": [
        "# Q11) Write a code to remove all occurrences of a specific element from a list.\n",
        "\n",
        "list1 = [1,2,3,4,5,1,5,2,8,'Arpit','Ankit','Ajay','Arpit']\n",
        "\n",
        "str3 = \"Arpit\"\n",
        "\n",
        "for i in list1:\n",
        "  if i == str3:\n",
        "     list1.remove(str3)\n",
        "\n",
        "print(list1)"
      ]
    },
    {
      "cell_type": "code",
      "execution_count": null,
      "metadata": {
        "colab": {
          "base_uri": "https://localhost:8080/"
        },
        "id": "cSPEQgt9ZRO0",
        "outputId": "7af07eff-5486-44bb-a1a7-737dc4bdec44"
      },
      "outputs": [
        {
          "name": "stdout",
          "output_type": "stream",
          "text": [
            "8\n"
          ]
        }
      ],
      "source": [
        "# Q12) Implement a code to find the second largest number in a given list of integer.\n",
        "\n",
        "list_num = [2,5,6,7,1,3,4,5,6,9,8]\n",
        "\n",
        "a = sorted(list_num)\n",
        "print(a[-2])"
      ]
    },
    {
      "cell_type": "code",
      "source": [
        "# Q13) Create a code to count the occurrences of each element in a list and return a dictionary with elements as keys and their counts as values.\n",
        "\n",
        "data_list = [1, 2, 2, 3, 1, 4, 2]\n",
        "counts = {}\n",
        "\n",
        "# Iterate through the list\n",
        "for element in data_list:\n",
        "  # Check if element exists in the dictionary\n",
        "  if element in counts:\n",
        "    counts[element] += 1\n",
        "  else:\n",
        "    counts[element] = 1\n",
        "\n",
        "# Print the dictionary with element counts\n",
        "print(counts)\n"
      ],
      "metadata": {
        "colab": {
          "base_uri": "https://localhost:8080/"
        },
        "id": "0lI3rjUpJc3h",
        "outputId": "663e2f6f-350c-4871-b8fa-0ccab5e045bc"
      },
      "execution_count": null,
      "outputs": [
        {
          "output_type": "stream",
          "name": "stdout",
          "text": [
            "{1: 2, 2: 3, 3: 1, 4: 1}\n"
          ]
        }
      ]
    },
    {
      "cell_type": "code",
      "execution_count": null,
      "metadata": {
        "colab": {
          "base_uri": "https://localhost:8080/"
        },
        "id": "Z68-Lhdm7Xxx",
        "outputId": "99f2f430-3b6f-4240-c8ba-4576bbd5ea6e"
      },
      "outputs": [
        {
          "output_type": "stream",
          "name": "stdout",
          "text": [
            "[10, 9, 8, 7, 6, 5, 4, 3, 2, 1]\n"
          ]
        }
      ],
      "source": [
        "# Q14) Write a code to reverse a list in-place without using any build-in reverse function.\n",
        "\n",
        "my_list = [1,2,3,4,5,6,7,8,9,10]\n",
        "reverse_list =[]\n",
        "\n",
        "for i in range(1,len(my_list)+1):\n",
        "   reverse_list.append(my_list[-i])\n",
        "\n",
        "print(reverse_list)"
      ]
    },
    {
      "cell_type": "code",
      "source": [
        "# Q15) Implement a code to find and remove duplicates from a list while preserving the original order of elements.\n",
        "\n",
        "list1 = [1,8,2,4,5,5,9,'Arpit','Ankit','Ajay','Arpit']\n",
        "\n",
        "seen = set()\n",
        "unique_list = []\n",
        "\n",
        "for item in list1:\n",
        "    if item not in seen:\n",
        "        unique_list.append(item)\n",
        "        seen.add(item)\n",
        "\n",
        "print(unique_list)"
      ],
      "metadata": {
        "colab": {
          "base_uri": "https://localhost:8080/"
        },
        "id": "I0ex2IBSByMb",
        "outputId": "95d8d4d9-416a-4881-ba95-21ba85a716ad"
      },
      "execution_count": 3,
      "outputs": [
        {
          "output_type": "stream",
          "name": "stdout",
          "text": [
            "[1, 8, 2, 4, 5, 9, 'Arpit', 'Ankit', 'Ajay']\n"
          ]
        }
      ]
    },
    {
      "cell_type": "code",
      "source": [
        "# Q16) Create a code to check if a given list is sorted (either in ascending or descending order) or not.\n",
        "\n",
        "list1 = [1,2,3,4,5,6,7,8,9,10]\n",
        "list2 = [10,9,8,7,6,5,4,3,2,1]\n",
        "\n",
        "if (list1 == sorted(list1) or list1 == sorted(list1,reverse=True)):\n",
        "    print(\"List is sorted\")\n",
        "else:\n",
        "    print(\"List is not sorted\")"
      ],
      "metadata": {
        "colab": {
          "base_uri": "https://localhost:8080/"
        },
        "id": "zPj5H_AVRH0j",
        "outputId": "ea70e8fc-57ef-4e05-8bb3-f83e0e3783e9"
      },
      "execution_count": null,
      "outputs": [
        {
          "output_type": "stream",
          "name": "stdout",
          "text": [
            "List is sorted\n"
          ]
        }
      ]
    },
    {
      "cell_type": "code",
      "source": [
        "# Q17) Write a code to merge two sorted lists into a single sorted list.\n",
        "\n",
        "list1 = [1,4,2,5,3,6,5]\n",
        "list2 = [9,3,4,1,3]\n",
        "\n",
        "list3 = sorted(list1) + sorted(list2)\n",
        "print(sorted(list3))\n"
      ],
      "metadata": {
        "colab": {
          "base_uri": "https://localhost:8080/"
        },
        "id": "UFNEHc_sSwez",
        "outputId": "0fae51fc-9c91-4ed0-9fb4-eb603afe99ee"
      },
      "execution_count": null,
      "outputs": [
        {
          "output_type": "stream",
          "name": "stdout",
          "text": [
            "[1, 1, 2, 3, 3, 3, 4, 4, 5, 5, 6, 9]\n"
          ]
        }
      ]
    },
    {
      "cell_type": "code",
      "source": [
        "# Q18) Implement a code to find the intersection of two given lists.\n",
        "\n",
        "list1 = [1,4,2,5,3,6,5]\n",
        "list2 = [9,3,4,1,3]\n",
        "list3 = []\n",
        "\n",
        "for i in set(list1):\n",
        "  for j in set(list2):\n",
        "    if i == j:\n",
        "      list3.append(i)\n",
        "\n",
        "print(\"Intersection of two given lists : \",list3)"
      ],
      "metadata": {
        "colab": {
          "base_uri": "https://localhost:8080/"
        },
        "id": "-pk0aSntTcYb",
        "outputId": "f6e27a73-7516-47f2-e0f8-01851f83ef04"
      },
      "execution_count": null,
      "outputs": [
        {
          "output_type": "stream",
          "name": "stdout",
          "text": [
            "Intersection of two given lists :  [1, 3, 4]\n"
          ]
        }
      ]
    },
    {
      "cell_type": "code",
      "source": [
        "# Q19) Create a code to find the union of two lists without duplicates.\n",
        "\n",
        "list1 = [1,4,2,5,3,6,5]\n",
        "list2 = [9,3,4,1,3]\n",
        "list3 = []\n",
        "\n",
        "list3 = set(list1) | set(list2)\n",
        "list3  = list(list3)\n",
        "\n",
        "print(\"Union of two given lists : \",list3)"
      ],
      "metadata": {
        "colab": {
          "base_uri": "https://localhost:8080/"
        },
        "id": "B7BtPw6cWc5p",
        "outputId": "a03a8970-3050-4ed2-b282-232cfe889238"
      },
      "execution_count": null,
      "outputs": [
        {
          "output_type": "stream",
          "name": "stdout",
          "text": [
            "Union of two given lists :  [1, 2, 3, 4, 5, 6, 9]\n"
          ]
        }
      ]
    },
    {
      "cell_type": "code",
      "source": [
        "# Q20) Write a code to shuffle a given list randomly without using any built-in shuffle functions.\n",
        "\n",
        "import random\n",
        "\n",
        "list1 = [1,4,2,5,3,6,5]\n",
        "random.shuffle(list1)\n",
        "print(list1)"
      ],
      "metadata": {
        "colab": {
          "base_uri": "https://localhost:8080/"
        },
        "id": "JNa8rtV_W6zJ",
        "outputId": "6bc8986c-1182-47d0-abe0-7e1348b1d0b6"
      },
      "execution_count": null,
      "outputs": [
        {
          "output_type": "stream",
          "name": "stdout",
          "text": [
            "[4, 3, 6, 2, 1, 5, 5]\n"
          ]
        }
      ]
    },
    {
      "cell_type": "code",
      "source": [
        "# Q21) Write a code that takes two tuples as input and returns a new tuple containing elements that are common to both input tuples.\n",
        "\n",
        "tuple1 = (1,2,3,4,5,6,7,8,9,10)\n",
        "tuple2 = (1,3,5,7,9,11,13,15,17,19)\n",
        "tuple3 = ()\n",
        "\n",
        "tuple3 = set(tuple1) & set(tuple2)\n",
        "print(\"Common elements of tuples are : \",tuple3)"
      ],
      "metadata": {
        "colab": {
          "base_uri": "https://localhost:8080/"
        },
        "id": "pwWpBehKXjhR",
        "outputId": "84cf5907-93e0-47f3-9dc3-ed3e7dd9c9fb"
      },
      "execution_count": 4,
      "outputs": [
        {
          "output_type": "stream",
          "name": "stdout",
          "text": [
            "Common elements of tuples are :  {1, 3, 5, 7, 9}\n"
          ]
        }
      ]
    },
    {
      "cell_type": "code",
      "source": [
        "# Q22) Create a code that prompts the user to enter two sets of integers separated by commas. Then, print the intersection of these two sets.\n",
        "\n",
        "set1 = input(\"Enter a set of integers separated by commas : \")\n",
        "set2 = input(\"Enter a set of integers separated by commas : \")\n",
        "\n",
        "set1 = set1.split(',')\n",
        "set2 = set2.split(',')\n",
        "set1 = set(set1)\n",
        "set2 = set(set2)\n",
        "\n",
        "set3 = set1 & set2\n",
        "print(\"Intersection of two sets are : \",set3)"
      ],
      "metadata": {
        "colab": {
          "base_uri": "https://localhost:8080/"
        },
        "id": "-191gS61Yr4w",
        "outputId": "edb3c620-4523-4831-ae52-7f7ffbb14e48"
      },
      "execution_count": null,
      "outputs": [
        {
          "output_type": "stream",
          "name": "stdout",
          "text": [
            "Enter a set of integers separated by commas : 1,2,3,4,5,6\n",
            "Enter a set of integers separated by commas : 3,4,5,7\n",
            "Intersection of two sets are :  {'3', '4', '5'}\n"
          ]
        }
      ]
    },
    {
      "cell_type": "code",
      "source": [
        "# Q23) Write a code to concatenate two tuples. The function should take two tuples as input and return a new tuple containing elements from both input tuples\n",
        "\n",
        "tuple1 = (1,2,3,4,5,6,7,8,9,10)\n",
        "tuple2 = (1,3,5,7,9,11,13,15,17,19)\n",
        "\n",
        "tuple3 = tuple1 + tuple2\n",
        "print(\"Concatenated two tuples : \",tuple3)\n",
        "\n",
        "# Function -\n",
        "def concatenate_tuples(tuple1, tuple2):\n",
        "    return tuple1 + tuple2"
      ],
      "metadata": {
        "colab": {
          "base_uri": "https://localhost:8080/"
        },
        "id": "sV1_DqUkagSq",
        "outputId": "9e037f89-72c9-40ad-cf81-b4a9cb8dac6e"
      },
      "execution_count": null,
      "outputs": [
        {
          "output_type": "stream",
          "name": "stdout",
          "text": [
            "Concatenated two tuples :  (1, 2, 3, 4, 5, 6, 7, 8, 9, 10, 1, 3, 5, 7, 9, 11, 13, 15, 17, 19)\n"
          ]
        }
      ]
    },
    {
      "cell_type": "code",
      "source": [
        "# Q24) Develop a code that prompts the user to input two sets of strings. Then, print the elements that are present in the first set but not in the second set.\n",
        "\n",
        "str1 = input(\"Enter String1 : \")\n",
        "str2 = input(\"Enter String2 : \")\n",
        "\n",
        "for i  in str1:\n",
        "  if i not in str2:\n",
        "    print(i)\n",
        "\n",
        "\n",
        "#Function :\n",
        "def difference(set1, set2):\n",
        "    return set1 - set2\n",
        "\n"
      ],
      "metadata": {
        "id": "4WSmA8b7bCcd",
        "colab": {
          "base_uri": "https://localhost:8080/"
        },
        "outputId": "dc4d3fbc-749b-4094-eba2-4376d150f3fc"
      },
      "execution_count": null,
      "outputs": [
        {
          "output_type": "stream",
          "name": "stdout",
          "text": [
            "Enter String1 : vhjvhk\n",
            "Enter String2 : mdnk\n",
            "v\n",
            "h\n",
            "j\n",
            "v\n",
            "h\n"
          ]
        }
      ]
    },
    {
      "cell_type": "code",
      "source": [
        "# Q25) Create a code that takes a tuple and two integers as input.\n",
        "#The function should return a new tuple containing elements from the original tuple within the specified range of indices.\n",
        "\n",
        "\n",
        "tpl1 = tuple(input(\"Enter a tuple : \").split())\n",
        "start = int(input('Enter a start number: '))\n",
        "end = int(input('Enter a end number: '))\n",
        "\n",
        "print(\"New Sliced Tuple is \",tpl1[start : end])\n",
        "\n",
        "#Function:\n",
        "def subtuple_within_range(tpl, start, end):\n",
        "    return tpl[start:end]"
      ],
      "metadata": {
        "colab": {
          "base_uri": "https://localhost:8080/"
        },
        "id": "tXOxMkKNZ18c",
        "outputId": "5e301e76-b5e4-4f42-c156-a5f00f7d1716"
      },
      "execution_count": null,
      "outputs": [
        {
          "output_type": "stream",
          "name": "stdout",
          "text": [
            "Enter a tuple : (mango, banana, orange)\n",
            "Enter a start number: 1\n",
            "Enter a end number: 3\n",
            "New Sliced Tuple is  ('banana,', 'orange)')\n"
          ]
        }
      ]
    },
    {
      "cell_type": "code",
      "source": [
        "# Q26) Write a code that prompts the user to input two sets of characters. Then, print the union of these two sets.\n",
        "\n",
        "set1 = set(input(\"Enter first set of characters: \").split())\n",
        "set2 = set(input(\"Enter second set of characters: \").split())\n",
        "print(\"Union of theses two sets is \", set1 | set2)"
      ],
      "metadata": {
        "colab": {
          "base_uri": "https://localhost:8080/"
        },
        "id": "vNRTyQZ8c3Gs",
        "outputId": "0a2f2aa1-2b51-4201-8f45-2d7a7bb71938"
      },
      "execution_count": null,
      "outputs": [
        {
          "output_type": "stream",
          "name": "stdout",
          "text": [
            "Enter first set of characters: a b c d\n",
            "Enter second set of characters: x c r f\n",
            "Union of theses two sets is  {'c', 'a', 'x', 'r', 'd', 'f', 'b'}\n"
          ]
        }
      ]
    },
    {
      "cell_type": "code",
      "source": [
        "# Q27) Develop a code that takes a tuple of integers as input. The function should return the maximum and minimum values from the tuple using tuple unpacking.\n",
        "\n",
        "#Function :\n",
        "def max_and_min(tpl):\n",
        "    return max(tpl), min(tpl)"
      ],
      "metadata": {
        "id": "LIBD6HRmeaHT"
      },
      "execution_count": null,
      "outputs": []
    },
    {
      "cell_type": "code",
      "source": [
        "max_and_min((1,2,3,4,5,6,7,8,9,10))"
      ],
      "metadata": {
        "colab": {
          "base_uri": "https://localhost:8080/"
        },
        "id": "zgaJxn_ce13b",
        "outputId": "a43abe5e-3a96-456e-df22-00db472d8d09"
      },
      "execution_count": null,
      "outputs": [
        {
          "output_type": "execute_result",
          "data": {
            "text/plain": [
              "(10, 1)"
            ]
          },
          "metadata": {},
          "execution_count": 22
        }
      ]
    },
    {
      "cell_type": "code",
      "source": [
        "# Q28) Create a code that defines two sets of integers. Then, print the union, intersection, and difference of these two sets.\n",
        "\n",
        "set1 = {1,2,3,4,5,6,7,8,9,10}\n",
        "set2 = {1,3,5,7,9,11,13,15,17,19}\n",
        "\n",
        "print(\"Union of two sets : \",set1 | set2)\n",
        "print(\"Intersection of two sets : \",set1 & set2)\n",
        "print(\"Difference of two sets : \",set1 - set2)"
      ],
      "metadata": {
        "colab": {
          "base_uri": "https://localhost:8080/"
        },
        "id": "F0bnDEvbe9VL",
        "outputId": "8d08466f-3be4-4b6b-8208-4d90af8de611"
      },
      "execution_count": null,
      "outputs": [
        {
          "output_type": "stream",
          "name": "stdout",
          "text": [
            "Union of two sets :  {1, 2, 3, 4, 5, 6, 7, 8, 9, 10, 11, 13, 15, 17, 19}\n",
            "Intersection of two sets :  {1, 3, 5, 7, 9}\n",
            "Difference of two sets :  {2, 4, 6, 8, 10}\n"
          ]
        }
      ]
    },
    {
      "cell_type": "code",
      "source": [
        "# Q29) Write a code that takes a tuple and an element as input. The function should return the count of occurrences of the given element in the tuple.\n",
        "\n",
        "#Function :\n",
        "def count_occurrences_in_tuple(tpl, element):\n",
        "    return tpl.count(element)\n"
      ],
      "metadata": {
        "id": "HrbxP0V6fVZ7"
      },
      "execution_count": null,
      "outputs": []
    },
    {
      "cell_type": "code",
      "source": [
        "count_occurrences_in_tuple((1,2,3,4,5,6,5,8,9,5),5)"
      ],
      "metadata": {
        "colab": {
          "base_uri": "https://localhost:8080/"
        },
        "id": "aTdm_7mCfrSr",
        "outputId": "35748416-2e0c-434c-a4ad-695bbc4217c7"
      },
      "execution_count": null,
      "outputs": [
        {
          "output_type": "execute_result",
          "data": {
            "text/plain": [
              "3"
            ]
          },
          "metadata": {},
          "execution_count": 26
        }
      ]
    },
    {
      "cell_type": "code",
      "source": [
        "# Q30) Develop a code that prompts the user to input two sets of strings. Then, print the symmetric difference of these two sets.\n",
        "\n",
        "set1 = set(input(\"Enter first set of strings: \").split())\n",
        "set2 = set(input(\"Enter second set of strings: \").split())\n",
        "print(\"Symmetric difference of theses two sets is \", set1 ^ set2)\n"
      ],
      "metadata": {
        "colab": {
          "base_uri": "https://localhost:8080/"
        },
        "id": "bqvuDZcFf1Xc",
        "outputId": "f1396b7b-2153-4b38-9135-c02110d0daf1"
      },
      "execution_count": null,
      "outputs": [
        {
          "output_type": "stream",
          "name": "stdout",
          "text": [
            "Enter first set of strings: a b c d e f g\n",
            "Enter second set of strings: s c f g r\n",
            "Symmetric difference of theses two sets is  {'a', 'r', 'd', 's', 'b', 'e'}\n"
          ]
        }
      ]
    },
    {
      "cell_type": "code",
      "source": [
        "# Q31) Write a code that takes a list of words as input and returns a dictionary where the keys are unique words and the values are the frequencies of those words in the input list.\n",
        "\n",
        "list1 = ['Apple', 'Mango', 'Banana', 'Apple', 'Mango', 'Banana', 'Apple', 'Mango']\n",
        "\n",
        "dict1 = {}\n",
        "\n",
        "for i in list1:\n",
        "  if i in dict1:\n",
        "    dict1[i] += 1\n",
        "  else:\n",
        "    dict1[i] = 1\n",
        "\n",
        "print(dict1)"
      ],
      "metadata": {
        "colab": {
          "base_uri": "https://localhost:8080/"
        },
        "id": "iVOyqn6WgXAL",
        "outputId": "82ece84d-a1c4-4823-c34f-d37a2f67dbd9"
      },
      "execution_count": null,
      "outputs": [
        {
          "output_type": "stream",
          "name": "stdout",
          "text": [
            "{'Apple': 3, 'Mango': 3, 'Banana': 2}\n"
          ]
        }
      ]
    },
    {
      "cell_type": "code",
      "source": [
        "# Q32) Write a code that takes two dictionaries as input and merges them into a single dictionary. If there are common keys, the values should be added together.\n",
        "\n",
        "dict1 = {'Apple' : 2, 'Orange' : 3 , 'Chilli' : 10}\n",
        "dict2 = {'Orange' : 1, 'Blueberry' :  10 , 'Apple' : 3, 'Watermelon' : 4}\n",
        "merged_dict = dict1\n",
        "\n",
        "for key, value in dict2.items():\n",
        "\n",
        "  if key in merged_dict:\n",
        "    merged_dict[key] = merged_dict[key] + value\n",
        "\n",
        "  else:\n",
        "    merged_dict[key] = value\n",
        "\n",
        "print(merged_dict)\n"
      ],
      "metadata": {
        "colab": {
          "base_uri": "https://localhost:8080/"
        },
        "id": "DrdUXYjghN1d",
        "outputId": "1a739e64-0835-4786-a6a2-c075471a2c37"
      },
      "execution_count": null,
      "outputs": [
        {
          "output_type": "stream",
          "name": "stdout",
          "text": [
            "{'Apple': 5, 'Orange': 4, 'Chilli': 10, 'Blueberry': 10, 'Watermelon': 4}\n"
          ]
        }
      ]
    },
    {
      "cell_type": "code",
      "source": [
        "# Q33) Write a code to access a value in a nested dictionary. The function should take the dictionary and a list of keys as input, and return the corresponding value.\n",
        "# If any of the keys do not exist in the dictionary, the function should return None.\n",
        "\n",
        "nested_dict = {'a': {'b': {'c': 10}}}\n",
        "keys = ['a', 'b', 'c']\n",
        "\n",
        "current_dict = nested_dict\n",
        "for key in keys:\n",
        "  if key not in current_dict:\n",
        "    value = None\n",
        "    break\n",
        "  else:\n",
        "    current_dict = current_dict[key]\n",
        "    value = current_dict\n",
        "\n",
        "print(value)\n",
        "\n",
        "\n"
      ],
      "metadata": {
        "id": "wsh2WQmOhorM",
        "colab": {
          "base_uri": "https://localhost:8080/"
        },
        "outputId": "c7387ea0-5bb8-4a2e-c6ca-8155c897b249"
      },
      "execution_count": 1,
      "outputs": [
        {
          "output_type": "stream",
          "name": "stdout",
          "text": [
            "10\n"
          ]
        }
      ]
    },
    {
      "cell_type": "code",
      "source": [
        "# Q34) Write a code that takes a dictionary as input and returns a sorted version of it based on the values. You can choose whether to sort in ascending or descending order.\n",
        "\n",
        "dict1 = {'Mango': 1, 'Watermelon' : 4, 'Banana' : 2, 'Apple' : 3}\n",
        "sorted_dict1 = {}\n",
        "\n",
        "a = sorted(dict1.items(), key=lambda item: item[1])\n",
        "\n",
        "sorted_dict1 = dict(a)\n",
        "\n",
        "print(sorted_dict1)\n"
      ],
      "metadata": {
        "colab": {
          "base_uri": "https://localhost:8080/"
        },
        "id": "btnJKu9Ph20y",
        "outputId": "e67cfb78-c791-49a8-df91-0eb102034bd5"
      },
      "execution_count": null,
      "outputs": [
        {
          "output_type": "stream",
          "name": "stdout",
          "text": [
            "{'Mango': 1, 'Banana': 2, 'Apple': 3, 'Watermelon': 4}\n"
          ]
        }
      ]
    },
    {
      "cell_type": "code",
      "source": [
        "# Q35) Write a code that inverts a dictionary, swapping keys and values. Ensure that the inverted dictionary correctly handles cases where multiple keys have the same value by storing the keys as a list in the inverted dictionary.\n",
        "\n",
        "dict1 = {'Apple' : 'Sweet', 'Orange' : 'Citrus', 'Number' :  2, 'Dict1' : 4 , 'Candy' : 'Sweet' , 'Dict2' : 4}\n",
        "\n",
        "inverted_dict1 = {}\n",
        "\n",
        "for key, value in dict1.items():\n",
        "\n",
        "   if value in inverted_dict1:\n",
        "     inverted_dict1[value].append(key)\n",
        "\n",
        "   else:\n",
        "     inverted_dict1[value] = [key]\n",
        "\n",
        "print(\"Inverted Dictionary is : \\n\" , inverted_dict1)\n",
        "\n",
        "\n",
        "\n",
        "\n",
        "\n"
      ],
      "metadata": {
        "id": "U6KLwLpcjC6r",
        "colab": {
          "base_uri": "https://localhost:8080/"
        },
        "outputId": "f099a48e-15da-48e1-cdf5-27050c69e65b"
      },
      "execution_count": null,
      "outputs": [
        {
          "output_type": "stream",
          "name": "stdout",
          "text": [
            "Inverted Dictionary is : \n",
            " {'Sweet': ['Apple', 'Candy'], 'Citrus': ['Orange'], 2: ['Number'], 4: ['Dict1', 'Dict2']}\n"
          ]
        }
      ]
    }
  ],
  "metadata": {
    "colab": {
      "provenance": []
    },
    "kernelspec": {
      "display_name": "Python 3",
      "name": "python3"
    },
    "language_info": {
      "name": "python"
    }
  },
  "nbformat": 4,
  "nbformat_minor": 0
}